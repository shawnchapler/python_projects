{
 "cells": [
  {
   "cell_type": "markdown",
   "metadata": {},
   "source": [
    "#Problem 1(a).  Reading Amazon Reviews.\n",
    "\n",
    "In this problem, we will analyze Amazon reviews to determine what characteristics make them most helpful.\n",
    "\n",
    "Download the file of Amazon gourmet food reviews from the [Stanford Large Network Dataset Collection](https://snap.stanford.edu/data/web-FineFoods.html).   (Your computer may already have a utility installed that can unzip the archive as a text file; if not, [7-zip](http://www.7-zip.org/) is a useful utility for Windows. You can also use an online utility by doing a web search for: ``open .gz files online``.)\n",
    "\n",
    "Create a pandas DataFrame object with the following entries for each review:\n",
    "\n",
    "* Product ID\n",
    "* Number of people who voted this review helpful\n",
    "* Total number of people who rated this review\n",
    "* Rating of the product\n",
    "* Text of the review\n",
    "\n",
    "For the second and third of these, the information will be given in the file as ```1/5```, which would correspond to 1 vote for helpful out of 5 people who rated the review.\n"
   ]
  },
  {
   "cell_type": "code",
   "execution_count": 1,
   "metadata": {
    "collapsed": true
   },
   "outputs": [],
   "source": [
    "import pandas as pd\n",
    "import numpy as np"
   ]
  },
  {
   "cell_type": "code",
   "execution_count": 2,
   "metadata": {
    "collapsed": false,
    "scrolled": true
   },
   "outputs": [
    {
     "name": "stdout",
     "output_type": "stream",
     "text": [
      "5116093\n"
     ]
    },
    {
     "data": {
      "text/plain": [
       "['review/userId: A3SGXH7AUHU8GW',\n",
       " 'review/profileName: delmartian',\n",
       " 'review/helpfulness: 1/1',\n",
       " 'review/score: 5.0',\n",
       " 'review/time: 1303862400',\n",
       " 'review/summary: Good Quality Dog Food',\n",
       " 'review/text: I have bought several of the Vitality canned dog food products and have found them all to be of good quality. The product looks more like a stew than a processed meat and it smells better. My Labrador is finicky and she appreciates this product better than  most.',\n",
       " '',\n",
       " 'product/productId: B00813GRG4',\n",
       " 'review/userId: A1D87F6ZCVE5NK',\n",
       " 'review/profileName: dll pa',\n",
       " 'review/helpfulness: 0/0',\n",
       " 'review/score: 1.0',\n",
       " 'review/time: 1346976000',\n",
       " 'review/summary: Not as Advertised',\n",
       " 'review/text: Product arrived labeled as Jumbo Salted Peanuts...the peanuts were actually small sized unsalted. Not sure if this was an error or if the vendor intended to represent the product as \"Jumbo\".',\n",
       " '',\n",
       " 'product/productId: B000LQOCH0',\n",
       " 'review/userId: ABXLMWJIXXAIN',\n",
       " 'review/profileName: Natalia Corres \"Natalia Corres\"']"
      ]
     },
     "execution_count": 2,
     "metadata": {},
     "output_type": "execute_result"
    }
   ],
   "source": [
    "#Initially Loaded file to review data.\n",
    "line_list=[]\n",
    "#import file as list\n",
    "with open(\"foods.txt\") as f:\n",
    "    line_num = 0\n",
    "    for line in f:\n",
    "        line=line.strip()\n",
    "        line_list=f.read().splitlines()\n",
    "print (len((line_list)))\n",
    "\n",
    "line_list[0:20]\n",
    "\n",
    "\n"
   ]
  },
  {
   "cell_type": "code",
   "execution_count": 3,
   "metadata": {
    "collapsed": false
   },
   "outputs": [
    {
     "name": "stdout",
     "output_type": "stream",
     "text": [
      "4547639\n"
     ]
    }
   ],
   "source": [
    "#Read in foods.txt file and strip out blank lines.  Did this in the datafile used to prevent having blanks in my dict below\n",
    "rf = open(\"foods.txt\")\n",
    "wf = open(\"newfoods2.txt\",\"w\")\n",
    "newlinecount=0\n",
    "for line in rf:\n",
    "    newline = line.strip('\\r\\n')\n",
    "    if newline!= \"\":\n",
    "        wf.write(newline)\n",
    "        newlinecount=newlinecount+1\n",
    "        wf.write('\\n')  # remove to leave out line breaks\n",
    "print (newlinecount)\n",
    "rf.close()\n",
    "wf.close()\n",
    "\n"
   ]
  },
  {
   "cell_type": "code",
   "execution_count": 4,
   "metadata": {
    "collapsed": false
   },
   "outputs": [
    {
     "name": "stdout",
     "output_type": "stream",
     "text": [
      "88 years old. ... 753580\n",
      "...creative powers b... 1416685\n",
      "School Princi... 1521590\n",
      "School Princi... 2270671\n",
      "I am a voracious reader/li... 2809464\n",
      "School Princi... 3018833\n",
      "...creative powers b... 4306898\n",
      "4547632\n"
     ]
    }
   ],
   "source": [
    "#loaded lines into a dict.  Added line_number to key to create a unique key.  Did line splits utilizing the colon for the first  \n",
    "#instance in the string to avoid issues with free text.\n",
    "#Cleaned leading spaces using strip.  Left sample for review before applying to the entire file in the next frame.\n",
    "#Dropped bad data rows (rows without prefix/data type identifiers).  Output the rows/data for review.\n",
    "mydicta={}\n",
    "with open(\"newfoods2.txt\", 'r') as gourmet_file:\n",
    "    line_num=0\n",
    "    for line in gourmet_file:\n",
    "        line = line.strip()\n",
    "        line_num +=1\n",
    "        if line_num <= newlinecount:\n",
    "            if len(line.split(':', 1))!= 2:\n",
    "                print (line, line_num)\n",
    "            else:\n",
    "                key=int(line_num)\n",
    "                valuea, valueb = line.split(':', 1)\n",
    "                valuea=valuea.strip()\n",
    "                valueb=valueb.strip()\n",
    "                mydicta[key] =valuea, valueb\n",
    "        else:\n",
    "            break\n",
    "\n",
    "print(len(mydicta))\n",
    "\n",
    " \n",
    "  \n",
    "\n"
   ]
  },
  {
   "cell_type": "markdown",
   "metadata": {},
   "source": [
    "#Problem 1(b).  Analyzing review text.\n",
    "\n",
    "Add columns to your DataFrame for the length of a review, the number of exclamation points in a review, and the fraction of people who rated a review helpful. You should calculate the fraction who rated a review helpful using the two columns you made in 1a, and a ratio of 1 helpful rating out of 5 total ratings should be entered as 0.2, not the string ```1/5```. If no people voted on whether a problem was helpful, the corresponding entry in your percentage helpful column should be ```NaN```."
   ]
  },
  {
   "cell_type": "code",
   "execution_count": 5,
   "metadata": {
    "collapsed": false
   },
   "outputs": [
    {
     "name": "stderr",
     "output_type": "stream",
     "text": [
      "C:\\Users\\smc\\Anaconda3\\lib\\site-packages\\ipykernel\\__main__.py:28: FutureWarning: convert_objects is deprecated.  Use the data-type specific converters pd.to_datetime, pd.to_timedelta and pd.to_numeric.\n"
     ]
    },
    {
     "data": {
      "text/plain": [
       "HelpfulReviewCount      int64\n",
       "Product               float64\n",
       "ReviewScore           float64\n",
       "ReviewText             object\n",
       "TotalReviewCount        int64\n",
       "dtype: object"
      ]
     },
     "execution_count": 5,
     "metadata": {},
     "output_type": "execute_result"
    }
   ],
   "source": [
    "# create an empty data frame with the appropriate columns\n",
    "column_names = ('Product', 'ReviewText', 'ReviewScore', 'HelpfulReviewCount', 'TotalReviewCount')\n",
    "food_df = pd.DataFrame(columns=column_names)\n",
    "    \n",
    "#create separate lists of values and headers\n",
    "myvaluesprod=[]\n",
    "myvaluestext=[]\n",
    "myvaluesscore=[]\n",
    "myvalueshelp=[]\n",
    "myvalueshelptotal=[]\n",
    "for index, value in mydicta.items():\n",
    "    if value[0] == ('product/productId'):\n",
    "        myvaluesprod=myvaluesprod+[value[1]]\n",
    "    if value[0] == 'review/text':\n",
    "        myvaluestext=myvaluestext+[value[1]]\n",
    "    if value[0] == 'review/score':\n",
    "        myvaluesscore=myvaluesscore+[value[1]]\n",
    "    if value[0] =='review/helpfulness':  \n",
    "        myvalueshelp=myvalueshelp+[value[1].split(\"/\")[0]]\n",
    "        myvalueshelptotal=myvalueshelptotal+ [value[1].split(\"/\")[1]]\n",
    "d = {'Product' : myvaluesprod\n",
    "    ,'ReviewText': myvaluestext\n",
    "    ,'ReviewScore'  : (myvaluesscore)\n",
    "    ,'HelpfulReviewCount' :  myvalueshelp\n",
    "    ,'TotalReviewCount'    : myvalueshelptotal}\n",
    "\n",
    "food_df = pd.DataFrame(d)\n",
    "food_df.convert_objects(convert_numeric=True).dtypes\n",
    "\n"
   ]
  },
  {
   "cell_type": "code",
   "execution_count": 27,
   "metadata": {
    "collapsed": true
   },
   "outputs": [],
   "source": [
    "food_df = pd.DataFrame(d)"
   ]
  },
  {
   "cell_type": "code",
   "execution_count": 33,
   "metadata": {
    "collapsed": false
   },
   "outputs": [],
   "source": [
    "#Add columns to the dataframe.  Review Length, Exclamation Point Counts, Fraction of Reviewers who found the review helpful.  Convert objects to numeric\n",
    "\n",
    "food_df=food_df.assign(ReviewLength=[len(value) for value in food_df['ReviewText']], ExclamCount=[value.count('!') for value in food_df['ReviewText']], \n",
    "FractionHelp=(food_df.HelpfulReviewCount.astype(int)/food_df.TotalReviewCount.astype(int).replace({ 0 : np.nan }))) \n",
    "\n",
    "food_df['ReviewScore']=pd.to_numeric(food_df['ReviewScore'])\n",
    "food_df['TotalReviewCount']=pd.to_numeric(food_df['TotalReviewCount'])\n",
    "food_df['HelpfulReviewCount']=pd.to_numeric(food_df['HelpfulReviewCount'])"
   ]
  },
  {
   "cell_type": "markdown",
   "metadata": {},
   "source": [
    "#Problem 1(c).  Summary statistics.\n",
    "\n",
    "How many reviews are in the data set?  What is the average length of a review (in characters)?  What is the average rating?  What is the greatest number of exclamation marks used in a single review?  Use the pandas package to answer these questions, then summarize your results in a markdown cell."
   ]
  },
  {
   "cell_type": "code",
   "execution_count": 34,
   "metadata": {
    "collapsed": false
   },
   "outputs": [
    {
     "data": {
      "text/html": [
       "<div>\n",
       "<table border=\"1\" class=\"dataframe\">\n",
       "  <thead>\n",
       "    <tr style=\"text-align: right;\">\n",
       "      <th></th>\n",
       "      <th>HelpfulReviewCount</th>\n",
       "      <th>Product</th>\n",
       "      <th>ReviewScore</th>\n",
       "      <th>ReviewText</th>\n",
       "      <th>TotalReviewCount</th>\n",
       "      <th>ExclamCount</th>\n",
       "      <th>FractionHelp</th>\n",
       "      <th>ReviewLength</th>\n",
       "    </tr>\n",
       "  </thead>\n",
       "  <tbody>\n",
       "    <tr>\n",
       "      <th>count</th>\n",
       "      <td>568454.000000</td>\n",
       "      <td>568454</td>\n",
       "      <td>568454.000000</td>\n",
       "      <td>568454</td>\n",
       "      <td>568454.00000</td>\n",
       "      <td>568454.000000</td>\n",
       "      <td>298402.000000</td>\n",
       "      <td>568454.000000</td>\n",
       "    </tr>\n",
       "    <tr>\n",
       "      <th>unique</th>\n",
       "      <td>NaN</td>\n",
       "      <td>74258</td>\n",
       "      <td>NaN</td>\n",
       "      <td>393579</td>\n",
       "      <td>NaN</td>\n",
       "      <td>NaN</td>\n",
       "      <td>NaN</td>\n",
       "      <td>NaN</td>\n",
       "    </tr>\n",
       "    <tr>\n",
       "      <th>top</th>\n",
       "      <td>NaN</td>\n",
       "      <td>B007JFMH8M</td>\n",
       "      <td>NaN</td>\n",
       "      <td>This review will make me sound really stupid, ...</td>\n",
       "      <td>NaN</td>\n",
       "      <td>NaN</td>\n",
       "      <td>NaN</td>\n",
       "      <td>NaN</td>\n",
       "    </tr>\n",
       "    <tr>\n",
       "      <th>freq</th>\n",
       "      <td>NaN</td>\n",
       "      <td>913</td>\n",
       "      <td>NaN</td>\n",
       "      <td>199</td>\n",
       "      <td>NaN</td>\n",
       "      <td>NaN</td>\n",
       "      <td>NaN</td>\n",
       "      <td>NaN</td>\n",
       "    </tr>\n",
       "    <tr>\n",
       "      <th>mean</th>\n",
       "      <td>1.743817</td>\n",
       "      <td>NaN</td>\n",
       "      <td>4.183199</td>\n",
       "      <td>NaN</td>\n",
       "      <td>2.22881</td>\n",
       "      <td>0.758047</td>\n",
       "      <td>0.776975</td>\n",
       "      <td>436.222083</td>\n",
       "    </tr>\n",
       "    <tr>\n",
       "      <th>std</th>\n",
       "      <td>7.636513</td>\n",
       "      <td>NaN</td>\n",
       "      <td>1.310436</td>\n",
       "      <td>NaN</td>\n",
       "      <td>8.28974</td>\n",
       "      <td>1.564842</td>\n",
       "      <td>0.346321</td>\n",
       "      <td>445.339741</td>\n",
       "    </tr>\n",
       "    <tr>\n",
       "      <th>min</th>\n",
       "      <td>0.000000</td>\n",
       "      <td>NaN</td>\n",
       "      <td>1.000000</td>\n",
       "      <td>NaN</td>\n",
       "      <td>0.00000</td>\n",
       "      <td>0.000000</td>\n",
       "      <td>0.000000</td>\n",
       "      <td>12.000000</td>\n",
       "    </tr>\n",
       "    <tr>\n",
       "      <th>25%</th>\n",
       "      <td>0.000000</td>\n",
       "      <td>NaN</td>\n",
       "      <td>4.000000</td>\n",
       "      <td>NaN</td>\n",
       "      <td>0.00000</td>\n",
       "      <td>0.000000</td>\n",
       "      <td>0.600000</td>\n",
       "      <td>179.000000</td>\n",
       "    </tr>\n",
       "    <tr>\n",
       "      <th>50%</th>\n",
       "      <td>0.000000</td>\n",
       "      <td>NaN</td>\n",
       "      <td>5.000000</td>\n",
       "      <td>NaN</td>\n",
       "      <td>1.00000</td>\n",
       "      <td>0.000000</td>\n",
       "      <td>1.000000</td>\n",
       "      <td>302.000000</td>\n",
       "    </tr>\n",
       "    <tr>\n",
       "      <th>75%</th>\n",
       "      <td>2.000000</td>\n",
       "      <td>NaN</td>\n",
       "      <td>5.000000</td>\n",
       "      <td>NaN</td>\n",
       "      <td>2.00000</td>\n",
       "      <td>1.000000</td>\n",
       "      <td>1.000000</td>\n",
       "      <td>527.000000</td>\n",
       "    </tr>\n",
       "    <tr>\n",
       "      <th>max</th>\n",
       "      <td>866.000000</td>\n",
       "      <td>NaN</td>\n",
       "      <td>5.000000</td>\n",
       "      <td>NaN</td>\n",
       "      <td>923.00000</td>\n",
       "      <td>84.000000</td>\n",
       "      <td>3.000000</td>\n",
       "      <td>21409.000000</td>\n",
       "    </tr>\n",
       "  </tbody>\n",
       "</table>\n",
       "</div>"
      ],
      "text/plain": [
       "        HelpfulReviewCount     Product    ReviewScore  \\\n",
       "count        568454.000000      568454  568454.000000   \n",
       "unique                 NaN       74258            NaN   \n",
       "top                    NaN  B007JFMH8M            NaN   \n",
       "freq                   NaN         913            NaN   \n",
       "mean              1.743817         NaN       4.183199   \n",
       "std               7.636513         NaN       1.310436   \n",
       "min               0.000000         NaN       1.000000   \n",
       "25%               0.000000         NaN       4.000000   \n",
       "50%               0.000000         NaN       5.000000   \n",
       "75%               2.000000         NaN       5.000000   \n",
       "max             866.000000         NaN       5.000000   \n",
       "\n",
       "                                               ReviewText  TotalReviewCount  \\\n",
       "count                                              568454      568454.00000   \n",
       "unique                                             393579               NaN   \n",
       "top     This review will make me sound really stupid, ...               NaN   \n",
       "freq                                                  199               NaN   \n",
       "mean                                                  NaN           2.22881   \n",
       "std                                                   NaN           8.28974   \n",
       "min                                                   NaN           0.00000   \n",
       "25%                                                   NaN           0.00000   \n",
       "50%                                                   NaN           1.00000   \n",
       "75%                                                   NaN           2.00000   \n",
       "max                                                   NaN         923.00000   \n",
       "\n",
       "          ExclamCount   FractionHelp   ReviewLength  \n",
       "count   568454.000000  298402.000000  568454.000000  \n",
       "unique            NaN            NaN            NaN  \n",
       "top               NaN            NaN            NaN  \n",
       "freq              NaN            NaN            NaN  \n",
       "mean         0.758047       0.776975     436.222083  \n",
       "std          1.564842       0.346321     445.339741  \n",
       "min          0.000000       0.000000      12.000000  \n",
       "25%          0.000000       0.600000     179.000000  \n",
       "50%          0.000000       1.000000     302.000000  \n",
       "75%          1.000000       1.000000     527.000000  \n",
       "max         84.000000       3.000000   21409.000000  "
      ]
     },
     "execution_count": 34,
     "metadata": {},
     "output_type": "execute_result"
    }
   ],
   "source": [
    "#Summary Statistics on all columns\n",
    "\n",
    "food_df.describe(include='all')"
   ]
  },
  {
   "cell_type": "markdown",
   "metadata": {},
   "source": [
    "Number of Reviews in DataSet = 568454\n",
    "Average Length of Review = 436.22\n",
    "Average Rating = 4.18\n",
    "Greatest Number of Exclamation Points Used in a Review = 84 "
   ]
  },
  {
   "cell_type": "markdown",
   "metadata": {},
   "source": [
    "#Problem 1(d).  Export.\n",
    "\n",
    "Save your DataFrame as a .csv file suitable for future analysis in R.  Your .csv file should not include the review text column, as the presence of commas and quotation marks will make reading the file difficult.  You should also convert entries from ```NaN``` to the empty string before saving."
   ]
  },
  {
   "cell_type": "code",
   "execution_count": 8,
   "metadata": {
    "collapsed": true
   },
   "outputs": [],
   "source": [
    "# Save the data frame to a .csv file\n",
    "# Specifying index=False prevents us from writing a column of row numbers\n",
    "\n",
    "food_df.to_csv(\"food_df_clean.csv\", columns=['Product', 'ReviewScore', 'HelpfulReviewCount', 'TotalReviewCount', 'ExclamCount', 'FractionHelp', 'ReviewLength'],\n",
    "               na_rep=\"\", index=False)"
   ]
  },
  {
   "cell_type": "code",
   "execution_count": null,
   "metadata": {
    "collapsed": true
   },
   "outputs": [],
   "source": []
  }
 ],
 "metadata": {
  "kernelspec": {
   "display_name": "Python 3",
   "language": "python",
   "name": "python3"
  },
  "language_info": {
   "codemirror_mode": {
    "name": "ipython",
    "version": 3
   },
   "file_extension": ".py",
   "mimetype": "text/x-python",
   "name": "python",
   "nbconvert_exporter": "python",
   "pygments_lexer": "ipython3",
   "version": "3.5.3"
  }
 },
 "nbformat": 4,
 "nbformat_minor": 0
}
