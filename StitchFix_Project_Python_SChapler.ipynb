{
 "cells": [
  {
   "cell_type": "code",
   "execution_count": 1,
   "metadata": {
    "collapsed": true
   },
   "outputs": [],
   "source": [
    "import tweepy\n"
   ]
  },
  {
   "cell_type": "code",
   "execution_count": 2,
   "metadata": {
    "collapsed": true
   },
   "outputs": [],
   "source": [
    "# Save your consumer key, consumer secret, access token, and access secret here.\n",
    "# Don't share these secrets with others!  If you're building code for Twitter which many people will share,\n",
    "# you should encrypt this information.  \n",
    "# It's also possible to generate access tokens and secrets from within an app.\n",
    "\n",
    "con_key = input('Enter consumer key:')\n",
    "con_secret = input ('Enter consumer secrect:')\n",
    "acc_token = input('Enter Access Token:')\n",
    "acc_secret = input('Enter access secret:')"
   ]
  },
  {
   "cell_type": "code",
   "execution_count": 3,
   "metadata": {
    "collapsed": true
   },
   "outputs": [],
   "source": [
    "#Use tweepy.OAuthHandler to create an authentication using the given key and secret\n",
    "auth = tweepy.OAuthHandler(consumer_key=con_key, consumer_secret=con_secret)\n",
    "auth.set_access_token(acc_token, acc_secret)\n",
    "\n",
    "#Connect to the Twitter API using the authentication\n",
    "api = tweepy.API(auth, wait_on_rate_limit=True, wait_on_rate_limit_notify=True) "
   ]
  },
  {
   "cell_type": "code",
   "execution_count": 6,
   "metadata": {
    "collapsed": false
   },
   "outputs": [
    {
     "name": "stdout",
     "output_type": "stream",
     "text": [
      "Enter a filename: tweets_test.txt\n",
      "Downloading max 1000 tweets\n",
      "#%23elevateyourstyle+OR+#%23NewInDL+OR+#%23StitchFix+OR+#%23TrunkClub+OR+#%23Wantable+OR+##%23stelladot+OR+#%23stelladotstyle\n",
      "Downloaded 100 tweets\n",
      "Downloaded 200 tweets\n",
      "Downloaded 300 tweets\n",
      "Downloaded 400 tweets\n",
      "Downloaded 500 tweets\n",
      "Downloaded 600 tweets\n",
      "Downloaded 700 tweets\n",
      "Downloaded 800 tweets\n",
      "Downloaded 900 tweets\n",
      "Downloaded 1000 tweets\n",
      "Downloaded 1000 tweets, Saved to tweets_test.txt\n"
     ]
    }
   ],
   "source": [
    "#Download tweets from Twitter based upon searchQuery criteria\n",
    "import sys\n",
    "import jsonpickle\n",
    "import os\n",
    "\n",
    "searchQuery = '#%23elevateyourstyle+OR+#%23NewInDL+OR+#%23StitchFix+OR+#%23TrunkClub+OR+#%23Wantable+OR+##%23stelladot+OR+#%23stelladotstyle'#this is what we're searching for\n",
    "maxTweets = 1000 # Some arbitrary large number\n",
    "tweetsPerQry = 100  # this is the max the API permits\n",
    "fName = input('Enter a filename: ') #Prompt user to enter file name each time it is run\n",
    "\n",
    "# If results from a specific ID onwards are reqd, set since_id to that ID.\n",
    "# else default to no lower limit, go as far back as API allows\n",
    "sinceId = None\n",
    "\n",
    "# If results only below a specific ID are, set max_id to that ID.\n",
    "# else default to no upper limit, start from the most recent tweet matching the search query.\n",
    "max_id = -1\n",
    "\n",
    "tweetCount = 0\n",
    "print(\"Downloading max {0} tweets\".format(maxTweets))\n",
    "with open(fName, 'w') as f:\n",
    "    while tweetCount < maxTweets:\n",
    "        try:\n",
    "            if (max_id <= 0):\n",
    "                if (not sinceId):\n",
    "                    new_tweets = api.search(q=searchQuery, count=tweetsPerQry)\n",
    "                    print (searchQuery)\n",
    "                else:\n",
    "                    new_tweets = api.search(q=searchQuery, count=tweetsPerQry,\n",
    "                                            since_id=sinceId)\n",
    "            else:\n",
    "                if (not sinceId):\n",
    "                    new_tweets = api.search(q=searchQuery, count=tweetsPerQry,\n",
    "                                            max_id=str(max_id - 1))\n",
    "                else:\n",
    "                    new_tweets = api.search(q=searchQuery, count=tweetsPerQry,\n",
    "                                            max_id=str(max_id - 1),\n",
    "                                            since_id=sinceId)\n",
    "            if not new_tweets:\n",
    "                print(\"No more tweets found\")\n",
    "                break\n",
    "            for tweet in new_tweets:\n",
    "                f.write(jsonpickle.encode(tweet._json, unpicklable=False) +\n",
    "                        '\\n')\n",
    "            tweetCount += len(new_tweets)\n",
    "            print(\"Downloaded {0} tweets\".format(tweetCount))\n",
    "            max_id = new_tweets[-1].id\n",
    "        except tweepy.TweepError as e:\n",
    "            # Just exit if any error\n",
    "            print(\"some error : \" + str(e))\n",
    "            break\n",
    "\n",
    "print (\"Downloaded {0} tweets, Saved to {1}\".format(tweetCount, fName))"
   ]
  },
  {
   "cell_type": "code",
   "execution_count": 8,
   "metadata": {
    "collapsed": true
   },
   "outputs": [],
   "source": [
    "import json\n",
    "from pprint import pprint"
   ]
  },
  {
   "cell_type": "code",
   "execution_count": 10,
   "metadata": {
    "collapsed": false
   },
   "outputs": [
    {
     "name": "stdout",
     "output_type": "stream",
     "text": [
      "Is this the first file Yes or No:Yes\n",
      "Enter a filename: tweets_test.txt\n"
     ]
    }
   ],
   "source": [
    "#Make user interactive if time\n",
    "#Import Json File  \n",
    "first_file=input('Is this the first file Yes or No:')\n",
    "fileName=input('Enter a filename: ')\n",
    "#fileName='tweets_0805am.txt'\n",
    "\n",
    "#first_file= 'No' #Can change this variable upon first file load.  Saves multiple files to a single list\n",
    "\n",
    "#Reinitialize file for loading into list using variable first_file.  Resets to empty if first_file = 'Yes'\n",
    "if first_file == 'Yes': \n",
    "    tweets = []\n",
    "else:\n",
    "    tweets=tweets\n",
    "    \n",
    "for line in open(fileName, 'r'):\n",
    "    tweets.append(json.loads(line))\n"
   ]
  },
  {
   "cell_type": "code",
   "execution_count": 11,
   "metadata": {
    "collapsed": false
   },
   "outputs": [
    {
     "data": {
      "text/plain": [
       "1000"
      ]
     },
     "execution_count": 11,
     "metadata": {},
     "output_type": "execute_result"
    }
   ],
   "source": [
    "#Check list length.  Confirm if able to append multiple files\n",
    "len(tweets)"
   ]
  },
  {
   "cell_type": "code",
   "execution_count": 12,
   "metadata": {
    "collapsed": true
   },
   "outputs": [],
   "source": [
    "#Create list of items interested in analyzing \n",
    "twitter_list = [(item['created_at'], item['id'], item['id_str'], item['entities'].get('hashtags'), len(item['entities']['hashtags']), \n",
    "    item['favorited'], item ['favorite_count'], item['retweeted'], \n",
    "    item['retweet_count'], item['text'], item['user'].get('name'), item['user'].get('screen_name'), item['user'].get('id'), item['user'].get('id_str'),\n",
    "     item['user'].get('friends_count')) for item in tweets]"
   ]
  },
  {
   "cell_type": "code",
   "execution_count": 13,
   "metadata": {
    "collapsed": false
   },
   "outputs": [
    {
     "data": {
      "text/plain": [
       "1000"
      ]
     },
     "execution_count": 13,
     "metadata": {},
     "output_type": "execute_result"
    }
   ],
   "source": [
    "#Transform list into dataframe\n",
    "import pandas as pd\n",
    "twitter_df = pd.DataFrame(twitter_list)\n",
    "column_names = (\"created_at\", \"id\", \"id_string\", \"hashtags\", \"hashtag_count\", \"favorited\", \"favorite_count\", \n",
    "                \"retweeted\", \"retweet_count\", \"tweet_text\", \"user_name\", \"user_screen_name\", \"user_id\", \"user_id_string\", \"user_friends_count\")\n",
    "twitter_df.columns=column_names\n",
    "len(twitter_df)\n"
   ]
  },
  {
   "cell_type": "code",
   "execution_count": 14,
   "metadata": {
    "collapsed": false
   },
   "outputs": [
    {
     "data": {
      "text/plain": [
       "'justkeepsgettingbetterandbetter'"
      ]
     },
     "execution_count": 14,
     "metadata": {},
     "output_type": "execute_result"
    }
   ],
   "source": [
    "#Access text value syntax\n",
    "twitter_df['hashtags'][0][0]['text']"
   ]
  },
  {
   "cell_type": "code",
   "execution_count": 15,
   "metadata": {
    "collapsed": true
   },
   "outputs": [],
   "source": [
    "#Iterate through nest dicts to get hashtag text\n",
    "ht=[]\n",
    "for s in range(len(twitter_df['hashtags'])):\n",
    "    hasht=[]\n",
    "    for t in range(len(twitter_df.hashtags[s])):\n",
    "        hasht.append(twitter_df['hashtags'][s][t]['text'])\n",
    "        t+t+1\n",
    "    ht.append(hasht)\n",
    "    s=s+1\n",
    " "
   ]
  },
  {
   "cell_type": "code",
   "execution_count": 16,
   "metadata": {
    "collapsed": false
   },
   "outputs": [],
   "source": [
    "#Create series and add column to dataframe with list of text values\n",
    "htse=pd.Series(ht)\n",
    "twitter_df['hashtag_list']=htse.values\n"
   ]
  },
  {
   "cell_type": "code",
   "execution_count": 17,
   "metadata": {
    "collapsed": false
   },
   "outputs": [],
   "source": [
    "#transform list into string\n",
    "twitter_df['hashtag_list'] = twitter_df.hashtag_list.apply(', '.join)\n"
   ]
  },
  {
   "cell_type": "code",
   "execution_count": 18,
   "metadata": {
    "collapsed": true
   },
   "outputs": [],
   "source": [
    "#create dataframe column containing stitchfix boolean indicator\n",
    "twitter_df['stitchfix_boolean']=twitter_df['hashtag_list'].str.lower().str.contains('stitchfix')"
   ]
  },
  {
   "cell_type": "code",
   "execution_count": 19,
   "metadata": {
    "collapsed": true
   },
   "outputs": [],
   "source": [
    "#create dataframe column containing stelladot boolean indicator\n",
    "twitter_df['stelladot_boolean']=twitter_df['hashtag_list'].str.lower().str.contains('stelladotstyle')"
   ]
  },
  {
   "cell_type": "code",
   "execution_count": 20,
   "metadata": {
    "collapsed": false
   },
   "outputs": [
    {
     "data": {
      "text/html": [
       "<div>\n",
       "<table border=\"1\" class=\"dataframe\">\n",
       "  <thead>\n",
       "    <tr style=\"text-align: right;\">\n",
       "      <th></th>\n",
       "      <th>id</th>\n",
       "      <th>hashtag_count</th>\n",
       "      <th>favorited</th>\n",
       "      <th>favorite_count</th>\n",
       "      <th>retweeted</th>\n",
       "      <th>retweet_count</th>\n",
       "      <th>user_id</th>\n",
       "      <th>user_friends_count</th>\n",
       "      <th>stitchfix_boolean</th>\n",
       "      <th>stelladot_boolean</th>\n",
       "    </tr>\n",
       "  </thead>\n",
       "  <tbody>\n",
       "    <tr>\n",
       "      <th>count</th>\n",
       "      <td>1.000000e+03</td>\n",
       "      <td>1000.000000</td>\n",
       "      <td>1000</td>\n",
       "      <td>1000.000000</td>\n",
       "      <td>1000</td>\n",
       "      <td>1000.000000</td>\n",
       "      <td>1.000000e+03</td>\n",
       "      <td>1000.000000</td>\n",
       "      <td>1000</td>\n",
       "      <td>1000</td>\n",
       "    </tr>\n",
       "    <tr>\n",
       "      <th>mean</th>\n",
       "      <td>8.929401e+17</td>\n",
       "      <td>1.548000</td>\n",
       "      <td>0</td>\n",
       "      <td>0.141000</td>\n",
       "      <td>0</td>\n",
       "      <td>0.481000</td>\n",
       "      <td>5.568270e+17</td>\n",
       "      <td>2315.518000</td>\n",
       "      <td>0.138</td>\n",
       "      <td>0.765</td>\n",
       "    </tr>\n",
       "    <tr>\n",
       "      <th>std</th>\n",
       "      <td>6.390853e+14</td>\n",
       "      <td>1.202973</td>\n",
       "      <td>0</td>\n",
       "      <td>0.693974</td>\n",
       "      <td>0</td>\n",
       "      <td>2.730768</td>\n",
       "      <td>3.178214e+17</td>\n",
       "      <td>2551.803484</td>\n",
       "      <td>0.345073</td>\n",
       "      <td>0.424211</td>\n",
       "    </tr>\n",
       "    <tr>\n",
       "      <th>min</th>\n",
       "      <td>8.918581e+17</td>\n",
       "      <td>0.000000</td>\n",
       "      <td>False</td>\n",
       "      <td>0.000000</td>\n",
       "      <td>False</td>\n",
       "      <td>0.000000</td>\n",
       "      <td>7.268392e+06</td>\n",
       "      <td>0.000000</td>\n",
       "      <td>False</td>\n",
       "      <td>False</td>\n",
       "    </tr>\n",
       "    <tr>\n",
       "      <th>25%</th>\n",
       "      <td>8.923958e+17</td>\n",
       "      <td>1.000000</td>\n",
       "      <td>0</td>\n",
       "      <td>0.000000</td>\n",
       "      <td>0</td>\n",
       "      <td>0.000000</td>\n",
       "      <td>7.030516e+17</td>\n",
       "      <td>390.000000</td>\n",
       "      <td>0</td>\n",
       "      <td>1</td>\n",
       "    </tr>\n",
       "    <tr>\n",
       "      <th>50%</th>\n",
       "      <td>8.929314e+17</td>\n",
       "      <td>1.000000</td>\n",
       "      <td>0</td>\n",
       "      <td>0.000000</td>\n",
       "      <td>0</td>\n",
       "      <td>0.000000</td>\n",
       "      <td>7.057811e+17</td>\n",
       "      <td>643.000000</td>\n",
       "      <td>0</td>\n",
       "      <td>1</td>\n",
       "    </tr>\n",
       "    <tr>\n",
       "      <th>75%</th>\n",
       "      <td>8.935141e+17</td>\n",
       "      <td>1.000000</td>\n",
       "      <td>0</td>\n",
       "      <td>0.000000</td>\n",
       "      <td>0</td>\n",
       "      <td>0.000000</td>\n",
       "      <td>7.656281e+17</td>\n",
       "      <td>4728.000000</td>\n",
       "      <td>0</td>\n",
       "      <td>1</td>\n",
       "    </tr>\n",
       "    <tr>\n",
       "      <th>max</th>\n",
       "      <td>8.940323e+17</td>\n",
       "      <td>10.000000</td>\n",
       "      <td>False</td>\n",
       "      <td>16.000000</td>\n",
       "      <td>False</td>\n",
       "      <td>20.000000</td>\n",
       "      <td>8.840536e+17</td>\n",
       "      <td>31729.000000</td>\n",
       "      <td>True</td>\n",
       "      <td>True</td>\n",
       "    </tr>\n",
       "  </tbody>\n",
       "</table>\n",
       "</div>"
      ],
      "text/plain": [
       "                 id  hashtag_count favorited  favorite_count retweeted  \\\n",
       "count  1.000000e+03    1000.000000      1000     1000.000000      1000   \n",
       "mean   8.929401e+17       1.548000         0        0.141000         0   \n",
       "std    6.390853e+14       1.202973         0        0.693974         0   \n",
       "min    8.918581e+17       0.000000     False        0.000000     False   \n",
       "25%    8.923958e+17       1.000000         0        0.000000         0   \n",
       "50%    8.929314e+17       1.000000         0        0.000000         0   \n",
       "75%    8.935141e+17       1.000000         0        0.000000         0   \n",
       "max    8.940323e+17      10.000000     False       16.000000     False   \n",
       "\n",
       "       retweet_count       user_id  user_friends_count stitchfix_boolean  \\\n",
       "count    1000.000000  1.000000e+03         1000.000000              1000   \n",
       "mean        0.481000  5.568270e+17         2315.518000             0.138   \n",
       "std         2.730768  3.178214e+17         2551.803484          0.345073   \n",
       "min         0.000000  7.268392e+06            0.000000             False   \n",
       "25%         0.000000  7.030516e+17          390.000000                 0   \n",
       "50%         0.000000  7.057811e+17          643.000000                 0   \n",
       "75%         0.000000  7.656281e+17         4728.000000                 0   \n",
       "max        20.000000  8.840536e+17        31729.000000              True   \n",
       "\n",
       "      stelladot_boolean  \n",
       "count              1000  \n",
       "mean              0.765  \n",
       "std            0.424211  \n",
       "min               False  \n",
       "25%                   1  \n",
       "50%                   1  \n",
       "75%                   1  \n",
       "max                True  "
      ]
     },
     "execution_count": 20,
     "metadata": {},
     "output_type": "execute_result"
    }
   ],
   "source": [
    "#Review dataframe values\n",
    "twitter_df.describe()"
   ]
  },
  {
   "cell_type": "code",
   "execution_count": 21,
   "metadata": {
    "collapsed": false
   },
   "outputs": [
    {
     "data": {
      "text/plain": [
       "created_at            object\n",
       "id                     int64\n",
       "id_string             object\n",
       "hashtags              object\n",
       "hashtag_count          int64\n",
       "favorited               bool\n",
       "favorite_count         int64\n",
       "retweeted               bool\n",
       "retweet_count          int64\n",
       "tweet_text            object\n",
       "user_name             object\n",
       "user_screen_name      object\n",
       "user_id                int64\n",
       "user_id_string        object\n",
       "user_friends_count     int64\n",
       "hashtag_list          object\n",
       "stitchfix_boolean       bool\n",
       "stelladot_boolean       bool\n",
       "dtype: object"
      ]
     },
     "execution_count": 21,
     "metadata": {},
     "output_type": "execute_result"
    }
   ],
   "source": [
    "#Check data types of fields before exporting\n",
    "twitter_df.dtypes"
   ]
  },
  {
   "cell_type": "code",
   "execution_count": 22,
   "metadata": {
    "collapsed": false
   },
   "outputs": [
    {
     "data": {
      "text/plain": [
       "1000"
      ]
     },
     "execution_count": 22,
     "metadata": {},
     "output_type": "execute_result"
    }
   ],
   "source": [
    "#sort dataframe by ID and user looking for duplicates\n",
    "twitter_df.sort_values(by=['id', 'retweet_count', 'favorite_count', 'user_friends_count'], axis=0, inplace=True)\n",
    "len(twitter_df)"
   ]
  },
  {
   "cell_type": "code",
   "execution_count": 23,
   "metadata": {
    "collapsed": false
   },
   "outputs": [
    {
     "data": {
      "text/plain": [
       "1000"
      ]
     },
     "execution_count": 23,
     "metadata": {},
     "output_type": "execute_result"
    }
   ],
   "source": [
    "#Drop duplicates identified by id column keeping first column getting latest update on tweet\n",
    "twitter_dfdedup=twitter_df.drop_duplicates(subset=['id'], keep='last')\n",
    "len(twitter_dfdedup)"
   ]
  },
  {
   "cell_type": "code",
   "execution_count": 24,
   "metadata": {
    "collapsed": false
   },
   "outputs": [
    {
     "name": "stdout",
     "output_type": "stream",
     "text": [
      "Enter an output filename: pandas_out.csv\n"
     ]
    }
   ],
   "source": [
    "#Create output file for analysis in R\n",
    "fileNameOut=input('Enter an output filename: ')\n",
    "twitter_dfdedup.to_csv(fileNameOut, columns=[\"created_at\", \"id\", \"id_string\", \"hashtags\", \"hashtag_count\", \"favorited\", \n",
    "                \"favorite_count\", \"retweeted\", \"retweet_count\", \"user_name\",\"user_screen_name\", \n",
    "                \"user_id\", \"user_id_string\", \"user_friends_count\", \"hashtag_list\", \"stitchfix_boolean\", \"stelladot_boolean\" ], na_rep=\"\", index=False)"
   ]
  },
  {
   "cell_type": "code",
   "execution_count": null,
   "metadata": {
    "collapsed": true
   },
   "outputs": [],
   "source": []
  }
 ],
 "metadata": {
  "kernelspec": {
   "display_name": "Python 3",
   "language": "python",
   "name": "python3"
  },
  "language_info": {
   "codemirror_mode": {
    "name": "ipython",
    "version": 3
   },
   "file_extension": ".py",
   "mimetype": "text/x-python",
   "name": "python",
   "nbconvert_exporter": "python",
   "pygments_lexer": "ipython3",
   "version": "3.5.3"
  }
 },
 "nbformat": 4,
 "nbformat_minor": 0
}
